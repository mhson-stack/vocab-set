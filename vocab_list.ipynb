{
 "cells": [
  {
   "cell_type": "code",
   "execution_count": 1,
   "metadata": {},
   "outputs": [],
   "source": [
    "from bs4 import BeautifulSoup\n",
    "import requests\n",
    "import pandas as pd\n",
    "import numpy as np"
   ]
  },
  {
   "cell_type": "code",
   "execution_count": null,
   "metadata": {},
   "outputs": [],
   "source": [
    "def get_sentence(vocab):\n",
    "    res = requests.get(f\"https://wordsinasentence.com/{vocab}-in-a-sentence/\")\n",
    "    html = BeautifulSoup(res.text, \"html.parser\")\n",
    "    sentence = html.find_all(\"p\")[3].text.split(\"\\n\")[0]\n",
    "    return sentence"
   ]
  },
  {
   "cell_type": "code",
   "execution_count": 10,
   "metadata": {},
   "outputs": [],
   "source": [
    "def create_vocab_set(filepath):\n",
    "    df = pd.read_csv(filepath, header=None, names = [\"word\", \"definition\"])\n",
    "    df.set_index(\"word\", inplace=True)\n",
    "    df[\"sentence\"] = np.nan\n",
    "    for vocab in df.index:\n",
    "        df.loc[vocab, \"sentence\"] = get_sentence(vocab)\n",
    "    df.to_csv(\"sentence_\"+filepath)\n",
    "    return df"
   ]
  }
 ],
 "metadata": {
  "kernelspec": {
   "display_name": "Python 3.10.3 64-bit ('3.10.3')",
   "language": "python",
   "name": "python3"
  },
  "language_info": {
   "codemirror_mode": {
    "name": "ipython",
    "version": 3
   },
   "file_extension": ".py",
   "mimetype": "text/x-python",
   "name": "python",
   "nbconvert_exporter": "python",
   "pygments_lexer": "ipython3",
   "version": "3.10.3"
  },
  "orig_nbformat": 4,
  "vscode": {
   "interpreter": {
    "hash": "db89c94554c06de4c6c4bca009dcc2796b9c443b2926e7b6d6228f1d37c46855"
   }
  }
 },
 "nbformat": 4,
 "nbformat_minor": 2
}
